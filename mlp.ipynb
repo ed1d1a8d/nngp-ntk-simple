{
 "cells": [
  {
   "cell_type": "code",
   "execution_count": 1,
   "id": "narrow-angel",
   "metadata": {},
   "outputs": [],
   "source": [
    "import jax\n",
    "import jax.numpy as jnp\n",
    "from jax.config import config\n",
    "config.update(\"jax_enable_x64\", True)\n",
    "\n",
    "from neural_tangents import stax"
   ]
  },
  {
   "cell_type": "code",
   "execution_count": 2,
   "id": "waiting-knowing",
   "metadata": {},
   "outputs": [
    {
     "name": "stderr",
     "output_type": "stream",
     "text": [
      "WARNING:absl:No GPU/TPU found, falling back to CPU. (Set TF_CPP_MIN_LOG_LEVEL=0 and rerun for more info.)\n"
     ]
    },
    {
     "data": {
      "text/plain": [
       "DeviceArray(861, dtype=int64)"
      ]
     },
     "execution_count": 2,
     "metadata": {},
     "output_type": "execute_result"
    }
   ],
   "source": [
    "# Get rid of Jax warnings up front\n",
    "jnp.arange(42).sum()"
   ]
  },
  {
   "cell_type": "markdown",
   "id": "mediterranean-stock",
   "metadata": {},
   "source": [
    "# Reference implementation\n",
    "Using `neural-tangents`"
   ]
  },
  {
   "cell_type": "code",
   "execution_count": 3,
   "id": "better-institution",
   "metadata": {},
   "outputs": [],
   "source": [
    "def _get_kernel_fn(\n",
    "    num_hidden_layers: int,\n",
    "    W_std: float,\n",
    "    b_std: float,\n",
    "):\n",
    "    layers = []\n",
    "    for _ in range(num_hidden_layers):\n",
    "        layers.append(stax.Dense(1, W_std=W_std, b_std=b_std))\n",
    "        layers.append(stax.Relu())\n",
    "    layers.append(stax.Dense(1, W_std=W_std, b_std=0))\n",
    "    \n",
    "    _, _, kernel_fn = stax.serial(*layers)\n",
    "    return kernel_fn\n",
    "\n",
    "\n",
    "def mlp_nngp_ref(\n",
    "    xs: jnp.ndarray,\n",
    "    num_hidden_layers: int,\n",
    "    W_std: float,\n",
    "    b_std: float,\n",
    "):\n",
    "    kernel_fn = _get_kernel_fn(\n",
    "        num_hidden_layers=num_hidden_layers,\n",
    "        W_std=W_std,\n",
    "        b_std=b_std,\n",
    "    )\n",
    "    \n",
    "    return kernel_fn(xs, xs).nngp\n",
    "\n",
    "\n",
    "def mlp_ntk_ref(\n",
    "    xs: jnp.ndarray,\n",
    "    num_hidden_layers: int,\n",
    "    W_std: float,\n",
    "    b_std: float,\n",
    "):\n",
    "    kernel_fn = _get_kernel_fn(\n",
    "        num_hidden_layers=num_hidden_layers,\n",
    "        W_std=W_std,\n",
    "        b_std=b_std,\n",
    "    )\n",
    "    \n",
    "    return kernel_fn(xs, xs).ntk"
   ]
  },
  {
   "cell_type": "code",
   "execution_count": 4,
   "id": "roman-partition",
   "metadata": {},
   "outputs": [
    {
     "name": "stdout",
     "output_type": "stream",
     "text": [
      "NNGP:\n",
      " [[0.84184238 0.59124872 0.54153011]\n",
      " [0.59124872 1.47744508 0.54834254]\n",
      " [0.54153011 0.54834254 0.73813525]]\n",
      "NTK:\n",
      " [[1.68368476 0.85379928 0.88487602]\n",
      " [0.85379928 2.95489015 0.78780738]\n",
      " [0.88487602 0.78780738 1.47627051]]\n"
     ]
    }
   ],
   "source": [
    "key, _ = jax.random.split(jax.random.PRNGKey(1))\n",
    "xs = jax.random.normal(key=key, shape=(3, 10))\n",
    "\n",
    "print(\"NNGP:\\n\", mlp_nngp_ref(xs, num_hidden_layers=1, W_std=1, b_std=1))\n",
    "print(\"NTK:\\n\", mlp_ntk_ref(xs, num_hidden_layers=1, W_std=1, b_std=1))"
   ]
  },
  {
   "cell_type": "markdown",
   "id": "continuing-receiver",
   "metadata": {},
   "source": [
    "# Our implementations"
   ]
  },
  {
   "cell_type": "markdown",
   "id": "accomplished-northwest",
   "metadata": {},
   "source": [
    "### NNGP"
   ]
  },
  {
   "cell_type": "code",
   "execution_count": 5,
   "id": "catholic-xerox",
   "metadata": {},
   "outputs": [],
   "source": [
    "def v_relu(K: jnp.ndarray):\n",
    "    \"\"\"K should be square\"\"\"\n",
    "    sqrt = jnp.sqrt(\n",
    "        jnp.diag(K)[:, jnp.newaxis]\n",
    "      * jnp.diag(K)[jnp.newaxis, :]\n",
    "    )\n",
    "    \n",
    "    c = K / sqrt\n",
    "    \n",
    "    return 1 / (2 * jnp.pi) * (\n",
    "        jnp.sqrt(1 - c * c)\n",
    "        + (jnp.pi - jnp.arccos(c)) * c\n",
    "    ) * sqrt\n",
    "\n",
    "def mlp_nngp_ours(\n",
    "    xs: jnp.ndarray,\n",
    "    num_hidden_layers: int,\n",
    "    W_std: float,\n",
    "    b_std: float,\n",
    "):\n",
    "    data_dim = xs.shape[1]\n",
    "    W_var = W_std ** 2\n",
    "    b_var = b_std ** 2\n",
    "    \n",
    "    # Kernel after first hidden layer (no ReLU)\n",
    "    K = W_var * (xs @ xs.T) / data_dim + b_var\n",
    "    \n",
    "    # Remaining hidden layers\n",
    "    for i in range(num_hidden_layers - 1):\n",
    "        K = W_var * v_relu(K) + b_var\n",
    "    \n",
    "    # Final linear output layer\n",
    "    if num_hidden_layers > 0:\n",
    "        K = W_var * v_relu(K)\n",
    "    \n",
    "    return K"
   ]
  },
  {
   "cell_type": "code",
   "execution_count": 6,
   "id": "likely-trigger",
   "metadata": {},
   "outputs": [
    {
     "name": "stdout",
     "output_type": "stream",
     "text": [
      "NNGP:\n",
      " [[0.84184238 0.59124872 0.54153011]\n",
      " [0.59124872 1.47744508 0.54834254]\n",
      " [0.54153011 0.54834254 0.73813525]]\n"
     ]
    }
   ],
   "source": [
    "key, _ = jax.random.split(jax.random.PRNGKey(1))\n",
    "xs = jax.random.normal(key=key, shape=(3, 10))\n",
    "\n",
    "print(\"NNGP:\\n\", mlp_nngp_ours(xs, num_hidden_layers=1, W_std=1, b_std=1))"
   ]
  },
  {
   "cell_type": "code",
   "execution_count": 7,
   "id": "satisfied-scene",
   "metadata": {},
   "outputs": [],
   "source": [
    "# Stronger tests\n",
    "for data_dim in [1, 2, 4, 32, 1024]:\n",
    "    key, _ = jax.random.split(jax.random.PRNGKey(1))\n",
    "    xs = jax.random.normal(key=key, shape=(10, data_dim))\n",
    "    \n",
    "    assert jnp.allclose(\n",
    "        mlp_nngp_ref(xs, num_hidden_layers=1, W_std=jnp.pi, b_std=jnp.e),\n",
    "        mlp_nngp_ours(xs, num_hidden_layers=1, W_std=jnp.pi, b_std=jnp.e),\n",
    "    )"
   ]
  },
  {
   "cell_type": "markdown",
   "id": "unknown-circuit",
   "metadata": {},
   "source": [
    "### NTK"
   ]
  },
  {
   "cell_type": "code",
   "execution_count": null,
   "id": "moderate-insert",
   "metadata": {},
   "outputs": [],
   "source": [
    "# TODO"
   ]
  }
 ],
 "metadata": {
  "kernelspec": {
   "display_name": "Python 3",
   "language": "python",
   "name": "python3"
  },
  "language_info": {
   "codemirror_mode": {
    "name": "ipython",
    "version": 3
   },
   "file_extension": ".py",
   "mimetype": "text/x-python",
   "name": "python",
   "nbconvert_exporter": "python",
   "pygments_lexer": "ipython3",
   "version": "3.8.8"
  }
 },
 "nbformat": 4,
 "nbformat_minor": 5
}

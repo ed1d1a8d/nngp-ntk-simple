{
 "cells": [
  {
   "cell_type": "code",
   "execution_count": 1,
   "id": "suspended-highlight",
   "metadata": {},
   "outputs": [],
   "source": [
    "import jax\n",
    "import jax.numpy as jnp\n",
    "from jax.config import config\n",
    "config.update(\"jax_enable_x64\", True)\n",
    "\n",
    "from neural_tangents import stax"
   ]
  },
  {
   "cell_type": "code",
   "execution_count": 2,
   "id": "proved-advertiser",
   "metadata": {},
   "outputs": [
    {
     "name": "stderr",
     "output_type": "stream",
     "text": [
      "WARNING:absl:No GPU/TPU found, falling back to CPU. (Set TF_CPP_MIN_LOG_LEVEL=0 and rerun for more info.)\n"
     ]
    },
    {
     "data": {
      "text/plain": [
       "DeviceArray(861, dtype=int64)"
      ]
     },
     "execution_count": 2,
     "metadata": {},
     "output_type": "execute_result"
    }
   ],
   "source": [
    "# Get rid of Jax warnings up front\n",
    "jnp.arange(42).sum()"
   ]
  },
  {
   "cell_type": "markdown",
   "id": "offshore-bolivia",
   "metadata": {},
   "source": [
    "# Reference implementation\n",
    "Using `neural-tangents`\n",
    "\n",
    "```python\n",
    "stax.serial(\n",
    "    stax.Dense(1, W_std=W_std, b_std=b_std), stax.Relu(),\n",
    "    stax.Dense(1, W_std=W_std, b_std=b_std), stax.Relu(),\n",
    "    stax.Dense(1, W_std=W_std, b_std=0)\n",
    ")\n",
    "```"
   ]
  },
  {
   "cell_type": "code",
   "execution_count": 3,
   "id": "athletic-adjustment",
   "metadata": {},
   "outputs": [],
   "source": [
    "def _get_kernel_fn(\n",
    "    num_hidden_layers: int,\n",
    "    W_std: float,\n",
    "    b_std: float,\n",
    "):\n",
    "    layers = []\n",
    "    for _ in range(num_hidden_layers):\n",
    "        layers.append(stax.Dense(1, W_std=W_std, b_std=b_std))\n",
    "        layers.append(stax.Relu())\n",
    "    layers.append(stax.Dense(1, W_std=W_std, b_std=0))\n",
    "    \n",
    "    _, _, kernel_fn = stax.serial(*layers)\n",
    "    return kernel_fn\n",
    "\n",
    "\n",
    "def mlp_nngp_ref(\n",
    "    xs: jnp.ndarray,\n",
    "    num_hidden_layers: int,\n",
    "    W_std: float,\n",
    "    b_std: float,\n",
    "):\n",
    "    kernel_fn = _get_kernel_fn(\n",
    "        num_hidden_layers=num_hidden_layers,\n",
    "        W_std=W_std,\n",
    "        b_std=b_std,\n",
    "    )\n",
    "    \n",
    "    return kernel_fn(xs, xs).nngp\n",
    "\n",
    "\n",
    "def mlp_ntk_ref(\n",
    "    xs: jnp.ndarray,\n",
    "    num_hidden_layers: int,\n",
    "    W_std: float,\n",
    "    b_std: float,\n",
    "):\n",
    "    kernel_fn = _get_kernel_fn(\n",
    "        num_hidden_layers=num_hidden_layers,\n",
    "        W_std=W_std,\n",
    "        b_std=b_std,\n",
    "    )\n",
    "    \n",
    "    return kernel_fn(xs, xs).ntk"
   ]
  },
  {
   "cell_type": "code",
   "execution_count": 4,
   "id": "virtual-simple",
   "metadata": {},
   "outputs": [
    {
     "name": "stdout",
     "output_type": "stream",
     "text": [
      "xs:\n",
      " [[ 0.51232451 -0.76248157  0.47484656 -1.44580725 -0.01293077]\n",
      " [-0.01876019  0.96316201 -1.30182157  0.92914455  0.27818229]\n",
      " [-0.41780672  0.07287297  1.92944858 -1.29686923 -0.40593064]]\n",
      "NNGP:\n",
      " [[0.95399649 0.87331003 0.95016414]\n",
      " [0.87331003 0.96408668 0.88058314]\n",
      " [0.95016414 0.88058314 1.01873236]]\n",
      "NTK:\n",
      " [[2.56598596 1.86727954 2.28452466]\n",
      " [1.86727954 2.60634674 1.83368718]\n",
      " [2.28452466 1.83368718 2.82492942]]\n"
     ]
    }
   ],
   "source": [
    "key, _ = jax.random.split(jax.random.PRNGKey(1))\n",
    "xs = jax.random.normal(key=key, shape=(3, 5))\n",
    "\n",
    "print(\"xs:\\n\", xs)\n",
    "print(\"NNGP:\\n\", mlp_nngp_ref(xs, num_hidden_layers=3, W_std=1, b_std=1))\n",
    "print(\"NTK:\\n\", mlp_ntk_ref(xs, num_hidden_layers=3, W_std=1, b_std=1))"
   ]
  },
  {
   "cell_type": "markdown",
   "id": "coordinated-corruption",
   "metadata": {},
   "source": [
    "# Our implementations"
   ]
  },
  {
   "cell_type": "markdown",
   "id": "worldwide-protection",
   "metadata": {},
   "source": [
    "### NNGP"
   ]
  },
  {
   "cell_type": "code",
   "execution_count": 7,
   "id": "exclusive-uzbekistan",
   "metadata": {},
   "outputs": [],
   "source": [
    "def v_relu(K: jnp.ndarray):\n",
    "    \"\"\"K should be square\"\"\"\n",
    "    sqrt = jnp.sqrt(\n",
    "        jnp.diag(K)[:, jnp.newaxis]\n",
    "      * jnp.diag(K)[jnp.newaxis, :]\n",
    "    )\n",
    "    \n",
    "    c = K / sqrt\n",
    "    \n",
    "    return 1 / (2 * jnp.pi) * (\n",
    "        jnp.sqrt(1 - c * c)\n",
    "        + (jnp.pi - jnp.arccos(c)) * c\n",
    "    ) * sqrt\n",
    "\n",
    "def mlp_nngp_ours(\n",
    "    xs: jnp.ndarray,\n",
    "    num_hidden_layers: int,\n",
    "    W_std: float,\n",
    "    b_std: float,\n",
    "):\n",
    "    assert num_hidden_layers > 0\n",
    "    \n",
    "    data_dim = xs.shape[1]\n",
    "    W_var = W_std ** 2\n",
    "    b_var = b_std ** 2\n",
    "    \n",
    "    # Initial covariance in data space\n",
    "    K_init = xs @ xs.T\n",
    "    \n",
    "    # Kernel after first hidden layer (before ReLU)\n",
    "    K = W_var * K_init / data_dim + b_var\n",
    "    \n",
    "    # Remaining hidden layers\n",
    "    for i in range(num_hidden_layers - 1):\n",
    "        K = W_var * v_relu(K) + b_var\n",
    "    \n",
    "    # Final linear output layer\n",
    "    K = W_var * v_relu(K)\n",
    "    \n",
    "    return K"
   ]
  },
  {
   "cell_type": "code",
   "execution_count": 8,
   "id": "economic-timber",
   "metadata": {},
   "outputs": [
    {
     "name": "stdout",
     "output_type": "stream",
     "text": [
      "NNGP:\n",
      " [[0.95399649 0.87331003 0.95016414]\n",
      " [0.87331003 0.96408668 0.88058314]\n",
      " [0.95016414 0.88058314 1.01873236]]\n"
     ]
    }
   ],
   "source": [
    "key, _ = jax.random.split(jax.random.PRNGKey(1))\n",
    "xs = jax.random.normal(key=key, shape=(3, 5))\n",
    "\n",
    "print(\"NNGP:\\n\", mlp_nngp_ours(xs, num_hidden_layers=3, W_std=1, b_std=1))"
   ]
  },
  {
   "cell_type": "code",
   "execution_count": 9,
   "id": "prostate-primary",
   "metadata": {},
   "outputs": [],
   "source": [
    "# Stronger tests\n",
    "for num_hidden_layers in [1, 4, 20]:\n",
    "    key, _ = jax.random.split(jax.random.PRNGKey(num_hidden_layers))\n",
    "    xs = jax.random.normal(key=key, shape=(10, 5))\n",
    "    \n",
    "    assert jnp.allclose(\n",
    "        mlp_nngp_ref(xs, num_hidden_layers=num_hidden_layers,\n",
    "                     W_std=jnp.pi, b_std=jnp.e),\n",
    "        mlp_nngp_ours(xs, num_hidden_layers=num_hidden_layers,\n",
    "                      W_std=jnp.pi, b_std=jnp.e),\n",
    "    )"
   ]
  },
  {
   "cell_type": "markdown",
   "id": "fantastic-subscriber",
   "metadata": {},
   "source": [
    "### NTK"
   ]
  },
  {
   "cell_type": "code",
   "execution_count": 8,
   "id": "white-supervisor",
   "metadata": {},
   "outputs": [],
   "source": [
    "# TODO"
   ]
  }
 ],
 "metadata": {
  "kernelspec": {
   "display_name": "Python 3",
   "language": "python",
   "name": "python3"
  },
  "language_info": {
   "codemirror_mode": {
    "name": "ipython",
    "version": 3
   },
   "file_extension": ".py",
   "mimetype": "text/x-python",
   "name": "python",
   "nbconvert_exporter": "python",
   "pygments_lexer": "ipython3",
   "version": "3.8.8"
  }
 },
 "nbformat": 4,
 "nbformat_minor": 5
}
